{
 "cells": [
  {
   "cell_type": "markdown",
   "metadata": {},
   "source": [
    "# generator\n",
    "以下の写経など\n",
    "- [Pythonのイテレータとジェネレータ](http://qiita.com/tomotaka_ito/items/35f3eb108f587022fa09)"
   ]
  },
  {
   "cell_type": "markdown",
   "metadata": {},
   "source": [
    "## iterator\n",
    "> ようやくイテレータの作り方を学ぶ準備ができた。イテレータとは__iter__()メソッドを実装した単なるクラスだ。 http://diveintopython3-ja.rdy.jp/iterators.html#a-fibonacci-iterator"
   ]
  },
  {
   "cell_type": "code",
   "execution_count": 14,
   "metadata": {
    "collapsed": true
   },
   "outputs": [],
   "source": [
    "class MyIterator(object):\n",
    "    \n",
    "    def __init__(self, *numbers):\n",
    "        self._numbers = numbers\n",
    "        self._i = 0\n",
    "    \n",
    "    def __iter__(self):\n",
    "        return self\n",
    "\n",
    "    def __next__(self):\n",
    "        if self._i == len(self._numbers):\n",
    "            raise StopIteration\n",
    "        \n",
    "        value = self._numbers[self._i]\n",
    "        self._i += 1\n",
    "        return value"
   ]
  },
  {
   "cell_type": "code",
   "execution_count": 31,
   "metadata": {
    "collapsed": false
   },
   "outputs": [],
   "source": [
    "myiter = MyIterator(*(10, 11, 12))"
   ]
  },
  {
   "cell_type": "code",
   "execution_count": 32,
   "metadata": {
    "collapsed": false
   },
   "outputs": [
    {
     "name": "stdout",
     "output_type": "stream",
     "text": [
      "10\t11\t12\t"
     ]
    }
   ],
   "source": [
    "for x in myiter:\n",
    "    print(x, end='\\t')"
   ]
  },
  {
   "cell_type": "markdown",
   "metadata": {},
   "source": [
    "[Dive Into Python3 クラスとイテレータ](http://diveintopython3-ja.rdy.jp/iterators.html)"
   ]
  },
  {
   "cell_type": "code",
   "execution_count": 21,
   "metadata": {
    "collapsed": true
   },
   "outputs": [],
   "source": [
    "# fibonacci sequence\n",
    "class Fib(object):\n",
    "    '''iterator that yeilds numbers in the Fibonacchi sequence.'''\n",
    "\n",
    "    def __init__(self, max):\n",
    "        self.max = max\n",
    "    \n",
    "    def __iter__(self):\n",
    "        self.a = 0\n",
    "        self.b = 1\n",
    "        return self\n",
    "\n",
    "    def __next__(self):\n",
    "        \n",
    "        fib = self.a\n",
    "        \n",
    "        if fib > self.max:\n",
    "            raise StopIteration\n",
    "            \n",
    "        self.a, self.b = self.b, self.a + self.b\n",
    "        \n",
    "        return fib"
   ]
  },
  {
   "cell_type": "markdown",
   "metadata": {},
   "source": [
    "__init__()とコンストラクタについて\n",
    ">\t__init__()メソッドは、クラスのインスタンスが生成されるとすぐに呼び出される。このメソッドのことをクラスの「コンストラクタ」と呼びたくなるかもしれないが、それは厳密には誤りだ。確かに、これはC++のコンストラクタと似たものに見えるし（慣例上、__init__() メソッドはクラスの一番初めに定義される）、同じような処理をするし（新しく作成されたインスタンスのなかで一番最初に実行される）、名前自体もそれっぽい。しかし、そう呼ぶのは正しくない。なぜなら、__init__()メソッドが呼び出されたときにはオブジェクトはすでに作成されており、そのクラスの新しいインスタンスへの有効な参照をあなたはすでに持っているからだ。   http://diveintopython3-ja.rdy.jp/iterators.html\n"
   ]
  },
  {
   "cell_type": "code",
   "execution_count": 19,
   "metadata": {
    "collapsed": true
   },
   "outputs": [],
   "source": [
    "fib = Fib(10)"
   ]
  },
  {
   "cell_type": "code",
   "execution_count": 33,
   "metadata": {
    "collapsed": false
   },
   "outputs": [
    {
     "name": "stdout",
     "output_type": "stream",
     "text": [
      "0\t1\t1\t2\t3\t5\t8\t"
     ]
    }
   ],
   "source": [
    "for x in fib:\n",
    "    print(x, end='\\t')"
   ]
  },
  {
   "cell_type": "code",
   "execution_count": 23,
   "metadata": {
    "collapsed": true
   },
   "outputs": [],
   "source": [
    "# fibonacci sequence\n",
    "class Fib2(object):\n",
    "    '''iterator that yeilds numbers in the Fibonacchi sequence.'''\n",
    "\n",
    "    def __init__(self, max):\n",
    "        self.max = max\n",
    "        self.a = 0\n",
    "        self.b = 1\n",
    "    \n",
    "    def __iter__(self):\n",
    "        return self\n",
    "\n",
    "    def __next__(self):\n",
    "        \n",
    "        fib = self.a\n",
    "        \n",
    "        if fib > self.max:\n",
    "            raise StopIteration\n",
    "            \n",
    "        self.a, self.b = self.b, self.a + self.b\n",
    "        \n",
    "        return fib"
   ]
  },
  {
   "cell_type": "code",
   "execution_count": 38,
   "metadata": {
    "collapsed": true
   },
   "outputs": [],
   "source": [
    "fib2 = Fib2(10)"
   ]
  },
  {
   "cell_type": "code",
   "execution_count": 39,
   "metadata": {
    "collapsed": false
   },
   "outputs": [
    {
     "name": "stdout",
     "output_type": "stream",
     "text": [
      "0\t1\t1\t2\t3\t5\t8\t"
     ]
    }
   ],
   "source": [
    "for x in fib2:\n",
    "    print(x, end='\\t')"
   ]
  },
  {
   "cell_type": "code",
   "execution_count": 40,
   "metadata": {
    "collapsed": false
   },
   "outputs": [],
   "source": [
    "# because self.a and self.b aren't initiarised on each __iter__() method, this for statement never work twice\n",
    "for x in fib2:\n",
    "    print(x, end='\\t')"
   ]
  },
  {
   "cell_type": "code",
   "execution_count": 42,
   "metadata": {
    "collapsed": false
   },
   "outputs": [
    {
     "name": "stdout",
     "output_type": "stream",
     "text": [
      "0\t1\t1\t2\t3\t5\t8\t13\t\n",
      "\n",
      "0\t1\t1\t2\t3\t5\t8\t13\t"
     ]
    }
   ],
   "source": [
    "# this statement works. \n",
    "for x in Fib2(20):\n",
    "    print(x, end='\\t')\n",
    "print('\\n')\n",
    "for x in Fib2(20):\n",
    "    print(x, end='\\t')"
   ]
  },
  {
   "cell_type": "markdown",
   "metadata": {},
   "source": [
    "## generator\n",
    "[ジェネレータの使い方](http://qiita.com/Kodaira_/items/32b1ef860f59df80eedb)\n",
    "> ジェネレータ関数は簡単に言うと、関数の中の途中でreturnができる感じ。\n",
    "でも、return的なことをしても終わらないのが特徴。"
   ]
  },
  {
   "cell_type": "code",
   "execution_count": 44,
   "metadata": {
    "collapsed": false
   },
   "outputs": [],
   "source": [
    "# generator sample\n",
    "def simple_gen():\n",
    "    yield 1\n",
    "    yield 2\n",
    "    yield 3"
   ]
  },
  {
   "cell_type": "code",
   "execution_count": 45,
   "metadata": {
    "collapsed": true
   },
   "outputs": [],
   "source": [
    "gen = simple_gen()"
   ]
  },
  {
   "cell_type": "code",
   "execution_count": 47,
   "metadata": {
    "collapsed": false
   },
   "outputs": [
    {
     "data": {
      "text/plain": [
       "1"
      ]
     },
     "execution_count": 47,
     "metadata": {},
     "output_type": "execute_result"
    }
   ],
   "source": [
    "next(gen)"
   ]
  },
  {
   "cell_type": "code",
   "execution_count": 48,
   "metadata": {
    "collapsed": false
   },
   "outputs": [
    {
     "data": {
      "text/plain": [
       "2"
      ]
     },
     "execution_count": 48,
     "metadata": {},
     "output_type": "execute_result"
    }
   ],
   "source": [
    "next(gen)"
   ]
  },
  {
   "cell_type": "code",
   "execution_count": 49,
   "metadata": {
    "collapsed": false
   },
   "outputs": [
    {
     "data": {
      "text/plain": [
       "3"
      ]
     },
     "execution_count": 49,
     "metadata": {},
     "output_type": "execute_result"
    }
   ],
   "source": [
    "next(gen)"
   ]
  },
  {
   "cell_type": "code",
   "execution_count": 56,
   "metadata": {
    "collapsed": true
   },
   "outputs": [],
   "source": [
    "def gen_fibonacci(max):\n",
    "    '''generator that yields number from the fibonacci sequence'''\n",
    "    a = 0\n",
    "    b = 1\n",
    "    \n",
    "    while True:\n",
    "        if a > max:\n",
    "            raise StopIteration\n",
    "        yield a\n",
    "\n",
    "        a, b = b, a + b"
   ]
  },
  {
   "cell_type": "code",
   "execution_count": 57,
   "metadata": {
    "collapsed": false
   },
   "outputs": [
    {
     "name": "stdout",
     "output_type": "stream",
     "text": [
      "0 1 1 2 3 5 8 13 21 34 55 89 "
     ]
    }
   ],
   "source": [
    "for x in gen_fibonacci(100):\n",
    "    print(x, end=' ')"
   ]
  }
 ],
 "metadata": {
  "anaconda-cloud": {},
  "kernelspec": {
   "display_name": "Python [conda root]",
   "language": "python",
   "name": "conda-root-py"
  },
  "language_info": {
   "codemirror_mode": {
    "name": "ipython",
    "version": 3
   },
   "file_extension": ".py",
   "mimetype": "text/x-python",
   "name": "python",
   "nbconvert_exporter": "python",
   "pygments_lexer": "ipython3",
   "version": "3.5.2"
  }
 },
 "nbformat": 4,
 "nbformat_minor": 1
}
